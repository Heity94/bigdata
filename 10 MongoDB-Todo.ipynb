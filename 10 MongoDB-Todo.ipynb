{
 "cells": [
  {
   "cell_type": "markdown",
   "metadata": {},
   "source": [
    "# MongoDB\n",
    "\n",
    "Based on https://docs.mongodb.com/getting-started \n"
   ]
  },
  {
   "cell_type": "markdown",
   "metadata": {},
   "source": [
    "MongoDB is a **NoSQL** open-source **document database**.  MongoDB provides horizontal scaling by replicating and partitioning the data over multiple nodes. This can improve the reliability and scalability of the system.\n",
    "\n",
    "A record in MongoDB is a **document**, which is a data structure composed of field and value pairs. MongoDB documents are similar to JSON objects or Python dictionaries. The values of fields may include other documents, arrays, and arrays of documents.\n",
    "\n",
    "This is an example of a document:\n",
    "```JSON\n",
    "{\n",
    "   \"_id\" : ObjectId(\"54c955492b7c8eb21818bd09\"),\n",
    "   \"address\" : {\n",
    "      \"street\" : \"2 Avenue\",\n",
    "      \"zipcode\" : \"10075\",\n",
    "      \"building\" : \"1480\",\n",
    "      \"coord\" : [ -73.9557413, 40.7720266 ]\n",
    "   },\n",
    "   \"borough\" : \"Manhattan\",\n",
    "   \"cuisine\" : \"Italian\",\n",
    "   \"grades\" : [\n",
    "      {\n",
    "         \"date\" : ISODate(\"2014-10-01T00:00:00Z\"),\n",
    "         \"grade\" : \"A\",\n",
    "         \"score\" : 11\n",
    "      },\n",
    "      {\n",
    "         \"date\" : ISODate(\"2014-01-16T00:00:00Z\"),\n",
    "         \"grade\" : \"B\",\n",
    "         \"score\" : 17\n",
    "      }\n",
    "   ],\n",
    "   \"name\" : \"Vella\",\n",
    "   \"restaurant_id\" : \"41704620\"\n",
    "}\n",
    "```\n",
    "In MongoDB, documents have a unique **_id** field that acts as a primary key. MongoDB automatically adds a unique _id to each document if you are not providing it by yourself.\n",
    "\n",
    "MongoDB stores documents in **collections**. Collections are analogous to tables in relational databases. Unlike a table, however, a collection does not require its documents to have the same schema.\n",
    "\n",
    "You can start a Docker image with MongoDB like this:\n",
    "```bash\n",
    "docker run -p 27017:27017 -d mongo\n",
    "```\n",
    "\n",
    "In production you really (!) would need to enable authentication with username and password, but for development purposes this is fine."
   ]
  },
  {
   "cell_type": "code",
   "execution_count": 1,
   "metadata": {},
   "outputs": [
    {
     "name": "stdout",
     "output_type": "stream",
     "text": [
      "Collecting pymongo\n",
      "  Downloading pymongo-4.1.1-cp38-cp38-macosx_10_9_x86_64.whl (365 kB)\n",
      "\u001b[2K     \u001b[90m━━━━━━━━━━━━━━━━━━━━━━━━━━━━━━━━━━━━━━━\u001b[0m \u001b[32m365.1/365.1 KB\u001b[0m \u001b[31m3.5 MB/s\u001b[0m eta \u001b[36m0:00:00\u001b[0ma \u001b[36m0:00:01\u001b[0m\n",
      "\u001b[?25hInstalling collected packages: pymongo\n",
      "Successfully installed pymongo-4.1.1\n",
      "\u001b[33mWARNING: You are using pip version 22.0.4; however, version 22.1.1 is available.\n",
      "You should consider upgrading via the '/Users/philippheitmann/.pyenv/versions/3.8.6/envs/lewagon/bin/python3.8 -m pip install --upgrade pip' command.\u001b[0m\u001b[33m\n",
      "\u001b[0m"
     ]
    }
   ],
   "source": [
    "# Install the pymongo Python Package \n",
    "!pip3 install pymongo"
   ]
  },
  {
   "cell_type": "code",
   "execution_count": 13,
   "metadata": {},
   "outputs": [],
   "source": [
    "from pymongo import MongoClient\n",
    "from pprint import pprint\n",
    "import requests "
   ]
  },
  {
   "cell_type": "markdown",
   "metadata": {},
   "source": [
    "Use MongoClient to create a connection. If you do not specify any arguments to MongoClient, then MongoClient defaults to the MongoDB instance that runs on the localhost interface on port 27017. You can also specify a complete MongoDB URI to define the connection, including explicitly specifying the host and port number. For example, the following creates a connection to a MongoDB instance that runs on mongodb0.example.net and the port of 27017: client = MongoClient(\"mongodb://mongodb0.example.net:27017\")"
   ]
  },
  {
   "cell_type": "code",
   "execution_count": 14,
   "metadata": {},
   "outputs": [],
   "source": [
    "# Client connects to \"localhost\" by default \n",
    "client = MongoClient()"
   ]
  },
  {
   "cell_type": "markdown",
   "metadata": {},
   "source": [
    "The first fundamental class of objects you will interact with using pymongo is Database which represents the database construct in MongoDB. Databases hold groups of logically related collections. MongoDB creates new databases implicitly upon their first use. Connect (create) with a database of your name, e.g. \n",
    "\n",
    "```python\n",
    "db = client[\"rolandmueller\"]\n",
    "``` \n",
    "or \n",
    "\n",
    "```python\n",
    "db = client.rolandmueller\n",
    "```"
   ]
  },
  {
   "cell_type": "code",
   "execution_count": 15,
   "metadata": {},
   "outputs": [],
   "source": [
    "# Create local \"bipm\" database on the fly \n",
    "db = client['bipm']"
   ]
  },
  {
   "cell_type": "code",
   "execution_count": 16,
   "metadata": {},
   "outputs": [],
   "source": [
    "# When we rerun the whole notebook, we start from scratch \n",
    "# by dropping the colection \"courses\"\n",
    "db.courses.drop()"
   ]
  },
  {
   "cell_type": "code",
   "execution_count": 17,
   "metadata": {},
   "outputs": [],
   "source": [
    "# Create a Python Dictonary\n",
    "courses = [\n",
    "    {'title': 'Data Science',\n",
    "     'lecturer': {\n",
    "         'name': 'Markus Löcher',\n",
    "         'department': 'Math',\n",
    "         'status': 'Professor'\n",
    "     },\n",
    "     'semester': 1},\n",
    "    {'title': 'Data Warehousing',\n",
    "     'lecturer': {\n",
    "         'name': 'Roland M. Mueller',\n",
    "         'department': 'Information Systems',\n",
    "         'status': 'Professor'\n",
    "     },\n",
    "     'semester': 1},\n",
    "    {'title': 'Business Process Management',\n",
    "     'lecturer': {\n",
    "         'name': 'Frank Habermann',\n",
    "         'department': 'Information Systems',\n",
    "         'status': 'Professor'\n",
    "     },\n",
    "     'semester': 1},\n",
    "    {'title': 'Stratigic Issues of IT',\n",
    "     'lecturer': {\n",
    "         'name': 'Sven Pohland',\n",
    "         'department': 'Information Systems',\n",
    "         'status': 'Professor'\n",
    "     },\n",
    "     'semester': 1},\n",
    "    {'title': 'Text, Web and Social Media Analytics Lab',\n",
    "     'lecturer': {\n",
    "         'name': 'Markus Löcher',\n",
    "         'department': 'Math',\n",
    "         'status': 'Professor'\n",
    "     },\n",
    "     'semester': 2},\n",
    "    {'title': 'Enterprise Architectures for Big Data',\n",
    "     'lecturer': {\n",
    "         'name': 'Roland M. Mueller',\n",
    "         'department': 'Information Systems',\n",
    "         'status': 'Professor'\n",
    "     },\n",
    "     'semester': 2},\n",
    "    {'title': 'Business Process Integration Lab',\n",
    "     'lecturer': {\n",
    "         'name': 'Frank Habermann',\n",
    "         'department': 'Information Systems',\n",
    "         'status': 'Professor'\n",
    "     },\n",
    "     'semester': 2},\n",
    "    {'title': 'IT-Security and Privacy',\n",
    "     'lecturer': {\n",
    "         'name': 'Dennis Uckel',\n",
    "         'department': 'Information Systems',\n",
    "         'status': 'External'\n",
    "     },\n",
    "     'semester': 2},\n",
    "    {'title': 'Research Methods',\n",
    "     'lecturer': {\n",
    "         'name': 'Marcus Birkenkrahe',\n",
    "         'department': 'Information Systems',\n",
    "         'status': 'Professor'\n",
    "     },\n",
    "     'semester': 2},\n",
    "]"
   ]
  },
  {
   "cell_type": "code",
   "execution_count": 18,
   "metadata": {},
   "outputs": [
    {
     "name": "stdout",
     "output_type": "stream",
     "text": [
      "[{'lecturer': {'department': 'Math',\n",
      "               'name': 'Markus Löcher',\n",
      "               'status': 'Professor'},\n",
      "  'semester': 1,\n",
      "  'title': 'Data Science'},\n",
      " {'lecturer': {'department': 'Information Systems',\n",
      "               'name': 'Roland M. Mueller',\n",
      "               'status': 'Professor'},\n",
      "  'semester': 1,\n",
      "  'title': 'Data Warehousing'},\n",
      " {'lecturer': {'department': 'Information Systems',\n",
      "               'name': 'Frank Habermann',\n",
      "               'status': 'Professor'},\n",
      "  'semester': 1,\n",
      "  'title': 'Business Process Management'},\n",
      " {'lecturer': {'department': 'Information Systems',\n",
      "               'name': 'Sven Pohland',\n",
      "               'status': 'Professor'},\n",
      "  'semester': 1,\n",
      "  'title': 'Stratigic Issues of IT'},\n",
      " {'lecturer': {'department': 'Math',\n",
      "               'name': 'Markus Löcher',\n",
      "               'status': 'Professor'},\n",
      "  'semester': 2,\n",
      "  'title': 'Text, Web and Social Media Analytics Lab'},\n",
      " {'lecturer': {'department': 'Information Systems',\n",
      "               'name': 'Roland M. Mueller',\n",
      "               'status': 'Professor'},\n",
      "  'semester': 2,\n",
      "  'title': 'Enterprise Architectures for Big Data'},\n",
      " {'lecturer': {'department': 'Information Systems',\n",
      "               'name': 'Frank Habermann',\n",
      "               'status': 'Professor'},\n",
      "  'semester': 2,\n",
      "  'title': 'Business Process Integration Lab'},\n",
      " {'lecturer': {'department': 'Information Systems',\n",
      "               'name': 'Dennis Uckel',\n",
      "               'status': 'External'},\n",
      "  'semester': 2,\n",
      "  'title': 'IT-Security and Privacy'},\n",
      " {'lecturer': {'department': 'Information Systems',\n",
      "               'name': 'Marcus Birkenkrahe',\n",
      "               'status': 'Professor'},\n",
      "  'semester': 2,\n",
      "  'title': 'Research Methods'}]\n"
     ]
    }
   ],
   "source": [
    "pprint(courses)"
   ]
  },
  {
   "cell_type": "markdown",
   "metadata": {},
   "source": [
    "## insert_many()\n",
    "\n",
    "You can use the `insert_one()` method and the `insert_many()` method to add documents to a collection in MongoDB. If you attempt to add documents to a collection that does not exist, MongoDB will create the collection for you."
   ]
  },
  {
   "cell_type": "code",
   "execution_count": 19,
   "metadata": {},
   "outputs": [
    {
     "data": {
      "text/plain": [
       "<pymongo.results.InsertManyResult at 0x1046dad90>"
      ]
     },
     "execution_count": 19,
     "metadata": {},
     "output_type": "execute_result"
    }
   ],
   "source": [
    "db.courses.insert_many(courses)"
   ]
  },
  {
   "cell_type": "markdown",
   "metadata": {},
   "source": [
    "## find()\n",
    "\n",
    "You can use the find() method to issue a query to retrieve data from a collection in MongoDB. All queries in MongoDB have the scope of a single collection.\n",
    "Queries can return all documents in a collection or only the documents that match a specified filter or criteria. You can specify the filter or criteria in a document and pass as a parameter to the find() method. With no parameter, find() returns all documents in the collection.\n",
    "\n",
    "The find() method returns query results in a cursor, which is an iterable object that yields documents. Then you can print all documents.\n",
    "\n",
    "```python\n",
    "cursor = db.my_collection.find()\n",
    "\n",
    "for document in cursor:\n",
    "    pprint(document)\n",
    "```\n"
   ]
  },
  {
   "cell_type": "code",
   "execution_count": 22,
   "metadata": {},
   "outputs": [
    {
     "name": "stdout",
     "output_type": "stream",
     "text": [
      "{'_id': ObjectId('629349181531256878bc3a1f'),\n",
      " 'lecturer': {'department': 'Math',\n",
      "              'name': 'Markus Löcher',\n",
      "              'status': 'Professor'},\n",
      " 'semester': 1,\n",
      " 'title': 'Data Science'}\n",
      "{'_id': ObjectId('629349181531256878bc3a20'),\n",
      " 'lecturer': {'department': 'Information Systems',\n",
      "              'name': 'Roland M. Mueller',\n",
      "              'status': 'Professor'},\n",
      " 'semester': 1,\n",
      " 'title': 'Data Warehousing'}\n",
      "{'_id': ObjectId('629349181531256878bc3a21'),\n",
      " 'lecturer': {'department': 'Information Systems',\n",
      "              'name': 'Frank Habermann',\n",
      "              'status': 'Professor'},\n",
      " 'semester': 1,\n",
      " 'title': 'Business Process Management'}\n",
      "{'_id': ObjectId('629349181531256878bc3a22'),\n",
      " 'lecturer': {'department': 'Information Systems',\n",
      "              'name': 'Sven Pohland',\n",
      "              'status': 'Professor'},\n",
      " 'semester': 1,\n",
      " 'title': 'Stratigic Issues of IT'}\n",
      "{'_id': ObjectId('629349181531256878bc3a23'),\n",
      " 'lecturer': {'department': 'Math',\n",
      "              'name': 'Markus Löcher',\n",
      "              'status': 'Professor'},\n",
      " 'semester': 2,\n",
      " 'title': 'Text, Web and Social Media Analytics Lab'}\n",
      "{'_id': ObjectId('629349181531256878bc3a24'),\n",
      " 'lecturer': {'department': 'Information Systems',\n",
      "              'name': 'Roland M. Mueller',\n",
      "              'status': 'Professor'},\n",
      " 'semester': 2,\n",
      " 'title': 'Enterprise Architectures for Big Data'}\n",
      "{'_id': ObjectId('629349181531256878bc3a25'),\n",
      " 'lecturer': {'department': 'Information Systems',\n",
      "              'name': 'Frank Habermann',\n",
      "              'status': 'Professor'},\n",
      " 'semester': 2,\n",
      " 'title': 'Business Process Integration Lab'}\n",
      "{'_id': ObjectId('629349181531256878bc3a26'),\n",
      " 'lecturer': {'department': 'Information Systems',\n",
      "              'name': 'Dennis Uckel',\n",
      "              'status': 'External'},\n",
      " 'semester': 2,\n",
      " 'title': 'IT-Security and Privacy'}\n",
      "{'_id': ObjectId('629349181531256878bc3a27'),\n",
      " 'lecturer': {'department': 'Information Systems',\n",
      "              'name': 'Marcus Birkenkrahe',\n",
      "              'status': 'Professor'},\n",
      " 'semester': 2,\n",
      " 'title': 'Research Methods'}\n"
     ]
    }
   ],
   "source": [
    "# TODO: Print all courses\n",
    "cursor = db.courses.find()\n",
    "\n",
    "for document in cursor:\n",
    "    pprint(document)"
   ]
  },
  {
   "cell_type": "markdown",
   "metadata": {},
   "source": [
    "## JSON\n",
    "\n",
    "You can store a JSON document if you convert it before to a Python dictionary:"
   ]
  },
  {
   "cell_type": "code",
   "execution_count": 23,
   "metadata": {},
   "outputs": [
    {
     "data": {
      "text/plain": [
       "{'title': 'Master Thesis', 'semester': 3}"
      ]
     },
     "execution_count": 23,
     "metadata": {},
     "output_type": "execute_result"
    }
   ],
   "source": [
    "my_json = '{\"title\": \"Master Thesis\", \"semester\": 3}'\n",
    "another_course = json.loads(my_json)\n",
    "another_course"
   ]
  },
  {
   "cell_type": "markdown",
   "metadata": {},
   "source": [
    "## insert_one()\n",
    "\n",
    "The `insert_one()` method adds the document into the collection.\n"
   ]
  },
  {
   "cell_type": "code",
   "execution_count": 26,
   "metadata": {
    "collapsed": true
   },
   "outputs": [
    {
     "ename": "DuplicateKeyError",
     "evalue": "E11000 duplicate key error collection: bipm.courses index: _id_ dup key: { _id: ObjectId('629349751531256878bc3a28') }, full error: {'index': 0, 'code': 11000, 'keyPattern': {'_id': 1}, 'keyValue': {'_id': ObjectId('629349751531256878bc3a28')}, 'errmsg': \"E11000 duplicate key error collection: bipm.courses index: _id_ dup key: { _id: ObjectId('629349751531256878bc3a28') }\"}",
     "output_type": "error",
     "traceback": [
      "\u001b[0;31m---------------------------------------------------------------------------\u001b[0m",
      "\u001b[0;31mDuplicateKeyError\u001b[0m                         Traceback (most recent call last)",
      "\u001b[0;32m/var/folders/r8/ml9zphbs05z5wx9ykw9g7r_40000gn/T/ipykernel_37160/1776378331.py\u001b[0m in \u001b[0;36m<module>\u001b[0;34m\u001b[0m\n\u001b[1;32m      1\u001b[0m \u001b[0;31m# TODO: Store `another_course` as another course:\u001b[0m\u001b[0;34m\u001b[0m\u001b[0;34m\u001b[0m\u001b[0;34m\u001b[0m\u001b[0m\n\u001b[0;32m----> 2\u001b[0;31m \u001b[0mdb\u001b[0m\u001b[0;34m.\u001b[0m\u001b[0mcourses\u001b[0m\u001b[0;34m.\u001b[0m\u001b[0minsert_one\u001b[0m\u001b[0;34m(\u001b[0m\u001b[0manother_course\u001b[0m\u001b[0;34m)\u001b[0m\u001b[0;34m\u001b[0m\u001b[0;34m\u001b[0m\u001b[0m\n\u001b[0m",
      "\u001b[0;32m~/.pyenv/versions/3.8.6/envs/lewagon/lib/python3.8/site-packages/pymongo/collection.py\u001b[0m in \u001b[0;36minsert_one\u001b[0;34m(self, document, bypass_document_validation, session, comment)\u001b[0m\n\u001b[1;32m    604\u001b[0m         \u001b[0mwrite_concern\u001b[0m \u001b[0;34m=\u001b[0m \u001b[0mself\u001b[0m\u001b[0;34m.\u001b[0m\u001b[0m_write_concern_for\u001b[0m\u001b[0;34m(\u001b[0m\u001b[0msession\u001b[0m\u001b[0;34m)\u001b[0m\u001b[0;34m\u001b[0m\u001b[0;34m\u001b[0m\u001b[0m\n\u001b[1;32m    605\u001b[0m         return InsertOneResult(\n\u001b[0;32m--> 606\u001b[0;31m             self._insert_one(\n\u001b[0m\u001b[1;32m    607\u001b[0m                 \u001b[0mdocument\u001b[0m\u001b[0;34m,\u001b[0m\u001b[0;34m\u001b[0m\u001b[0;34m\u001b[0m\u001b[0m\n\u001b[1;32m    608\u001b[0m                 \u001b[0mordered\u001b[0m\u001b[0;34m=\u001b[0m\u001b[0;32mTrue\u001b[0m\u001b[0;34m,\u001b[0m\u001b[0;34m\u001b[0m\u001b[0;34m\u001b[0m\u001b[0m\n",
      "\u001b[0;32m~/.pyenv/versions/3.8.6/envs/lewagon/lib/python3.8/site-packages/pymongo/collection.py\u001b[0m in \u001b[0;36m_insert_one\u001b[0;34m(self, doc, ordered, write_concern, op_id, bypass_doc_val, session, comment)\u001b[0m\n\u001b[1;32m    545\u001b[0m             \u001b[0m_check_write_command_response\u001b[0m\u001b[0;34m(\u001b[0m\u001b[0mresult\u001b[0m\u001b[0;34m)\u001b[0m\u001b[0;34m\u001b[0m\u001b[0;34m\u001b[0m\u001b[0m\n\u001b[1;32m    546\u001b[0m \u001b[0;34m\u001b[0m\u001b[0m\n\u001b[0;32m--> 547\u001b[0;31m         \u001b[0mself\u001b[0m\u001b[0;34m.\u001b[0m\u001b[0m__database\u001b[0m\u001b[0;34m.\u001b[0m\u001b[0mclient\u001b[0m\u001b[0;34m.\u001b[0m\u001b[0m_retryable_write\u001b[0m\u001b[0;34m(\u001b[0m\u001b[0macknowledged\u001b[0m\u001b[0;34m,\u001b[0m \u001b[0m_insert_command\u001b[0m\u001b[0;34m,\u001b[0m \u001b[0msession\u001b[0m\u001b[0;34m)\u001b[0m\u001b[0;34m\u001b[0m\u001b[0;34m\u001b[0m\u001b[0m\n\u001b[0m\u001b[1;32m    548\u001b[0m \u001b[0;34m\u001b[0m\u001b[0m\n\u001b[1;32m    549\u001b[0m         \u001b[0;32mif\u001b[0m \u001b[0;32mnot\u001b[0m \u001b[0misinstance\u001b[0m\u001b[0;34m(\u001b[0m\u001b[0mdoc\u001b[0m\u001b[0;34m,\u001b[0m \u001b[0mRawBSONDocument\u001b[0m\u001b[0;34m)\u001b[0m\u001b[0;34m:\u001b[0m\u001b[0;34m\u001b[0m\u001b[0;34m\u001b[0m\u001b[0m\n",
      "\u001b[0;32m~/.pyenv/versions/3.8.6/envs/lewagon/lib/python3.8/site-packages/pymongo/mongo_client.py\u001b[0m in \u001b[0;36m_retryable_write\u001b[0;34m(self, retryable, func, session)\u001b[0m\n\u001b[1;32m   1397\u001b[0m         \u001b[0;34m\"\"\"Internal retryable write helper.\"\"\"\u001b[0m\u001b[0;34m\u001b[0m\u001b[0;34m\u001b[0m\u001b[0m\n\u001b[1;32m   1398\u001b[0m         \u001b[0;32mwith\u001b[0m \u001b[0mself\u001b[0m\u001b[0;34m.\u001b[0m\u001b[0m_tmp_session\u001b[0m\u001b[0;34m(\u001b[0m\u001b[0msession\u001b[0m\u001b[0;34m)\u001b[0m \u001b[0;32mas\u001b[0m \u001b[0ms\u001b[0m\u001b[0;34m:\u001b[0m\u001b[0;34m\u001b[0m\u001b[0;34m\u001b[0m\u001b[0m\n\u001b[0;32m-> 1399\u001b[0;31m             \u001b[0;32mreturn\u001b[0m \u001b[0mself\u001b[0m\u001b[0;34m.\u001b[0m\u001b[0m_retry_with_session\u001b[0m\u001b[0;34m(\u001b[0m\u001b[0mretryable\u001b[0m\u001b[0;34m,\u001b[0m \u001b[0mfunc\u001b[0m\u001b[0;34m,\u001b[0m \u001b[0ms\u001b[0m\u001b[0;34m,\u001b[0m \u001b[0;32mNone\u001b[0m\u001b[0;34m)\u001b[0m\u001b[0;34m\u001b[0m\u001b[0;34m\u001b[0m\u001b[0m\n\u001b[0m\u001b[1;32m   1400\u001b[0m \u001b[0;34m\u001b[0m\u001b[0m\n\u001b[1;32m   1401\u001b[0m     \u001b[0;32mdef\u001b[0m \u001b[0m__eq__\u001b[0m\u001b[0;34m(\u001b[0m\u001b[0mself\u001b[0m\u001b[0;34m,\u001b[0m \u001b[0mother\u001b[0m\u001b[0;34m:\u001b[0m \u001b[0mAny\u001b[0m\u001b[0;34m)\u001b[0m \u001b[0;34m->\u001b[0m \u001b[0mbool\u001b[0m\u001b[0;34m:\u001b[0m\u001b[0;34m\u001b[0m\u001b[0;34m\u001b[0m\u001b[0m\n",
      "\u001b[0;32m~/.pyenv/versions/3.8.6/envs/lewagon/lib/python3.8/site-packages/pymongo/mongo_client.py\u001b[0m in \u001b[0;36m_retry_with_session\u001b[0;34m(self, retryable, func, session, bulk)\u001b[0m\n\u001b[1;32m   1284\u001b[0m             \u001b[0mretryable\u001b[0m \u001b[0;32mand\u001b[0m \u001b[0mself\u001b[0m\u001b[0;34m.\u001b[0m\u001b[0moptions\u001b[0m\u001b[0;34m.\u001b[0m\u001b[0mretry_writes\u001b[0m \u001b[0;32mand\u001b[0m \u001b[0msession\u001b[0m \u001b[0;32mand\u001b[0m \u001b[0;32mnot\u001b[0m \u001b[0msession\u001b[0m\u001b[0;34m.\u001b[0m\u001b[0min_transaction\u001b[0m\u001b[0;34m\u001b[0m\u001b[0;34m\u001b[0m\u001b[0m\n\u001b[1;32m   1285\u001b[0m         )\n\u001b[0;32m-> 1286\u001b[0;31m         \u001b[0;32mreturn\u001b[0m \u001b[0mself\u001b[0m\u001b[0;34m.\u001b[0m\u001b[0m_retry_internal\u001b[0m\u001b[0;34m(\u001b[0m\u001b[0mretryable\u001b[0m\u001b[0;34m,\u001b[0m \u001b[0mfunc\u001b[0m\u001b[0;34m,\u001b[0m \u001b[0msession\u001b[0m\u001b[0;34m,\u001b[0m \u001b[0mbulk\u001b[0m\u001b[0;34m)\u001b[0m\u001b[0;34m\u001b[0m\u001b[0;34m\u001b[0m\u001b[0m\n\u001b[0m\u001b[1;32m   1287\u001b[0m \u001b[0;34m\u001b[0m\u001b[0m\n\u001b[1;32m   1288\u001b[0m     \u001b[0;32mdef\u001b[0m \u001b[0m_retry_internal\u001b[0m\u001b[0;34m(\u001b[0m\u001b[0mself\u001b[0m\u001b[0;34m,\u001b[0m \u001b[0mretryable\u001b[0m\u001b[0;34m,\u001b[0m \u001b[0mfunc\u001b[0m\u001b[0;34m,\u001b[0m \u001b[0msession\u001b[0m\u001b[0;34m,\u001b[0m \u001b[0mbulk\u001b[0m\u001b[0;34m)\u001b[0m\u001b[0;34m:\u001b[0m\u001b[0;34m\u001b[0m\u001b[0;34m\u001b[0m\u001b[0m\n",
      "\u001b[0;32m~/.pyenv/versions/3.8.6/envs/lewagon/lib/python3.8/site-packages/pymongo/mongo_client.py\u001b[0m in \u001b[0;36m_retry_internal\u001b[0;34m(self, retryable, func, session, bulk)\u001b[0m\n\u001b[1;32m   1318\u001b[0m                             \u001b[0;32mraise\u001b[0m \u001b[0mlast_error\u001b[0m\u001b[0;34m\u001b[0m\u001b[0;34m\u001b[0m\u001b[0m\n\u001b[1;32m   1319\u001b[0m                         \u001b[0mretryable\u001b[0m \u001b[0;34m=\u001b[0m \u001b[0;32mFalse\u001b[0m\u001b[0;34m\u001b[0m\u001b[0;34m\u001b[0m\u001b[0m\n\u001b[0;32m-> 1320\u001b[0;31m                     \u001b[0;32mreturn\u001b[0m \u001b[0mfunc\u001b[0m\u001b[0;34m(\u001b[0m\u001b[0msession\u001b[0m\u001b[0;34m,\u001b[0m \u001b[0msock_info\u001b[0m\u001b[0;34m,\u001b[0m \u001b[0mretryable\u001b[0m\u001b[0;34m)\u001b[0m\u001b[0;34m\u001b[0m\u001b[0;34m\u001b[0m\u001b[0m\n\u001b[0m\u001b[1;32m   1321\u001b[0m             \u001b[0;32mexcept\u001b[0m \u001b[0mServerSelectionTimeoutError\u001b[0m\u001b[0;34m:\u001b[0m\u001b[0;34m\u001b[0m\u001b[0;34m\u001b[0m\u001b[0m\n\u001b[1;32m   1322\u001b[0m                 \u001b[0;32mif\u001b[0m \u001b[0mis_retrying\u001b[0m\u001b[0;34m(\u001b[0m\u001b[0;34m)\u001b[0m\u001b[0;34m:\u001b[0m\u001b[0;34m\u001b[0m\u001b[0;34m\u001b[0m\u001b[0m\n",
      "\u001b[0;32m~/.pyenv/versions/3.8.6/envs/lewagon/lib/python3.8/site-packages/pymongo/collection.py\u001b[0m in \u001b[0;36m_insert_command\u001b[0;34m(session, sock_info, retryable_write)\u001b[0m\n\u001b[1;32m    543\u001b[0m             )\n\u001b[1;32m    544\u001b[0m \u001b[0;34m\u001b[0m\u001b[0m\n\u001b[0;32m--> 545\u001b[0;31m             \u001b[0m_check_write_command_response\u001b[0m\u001b[0;34m(\u001b[0m\u001b[0mresult\u001b[0m\u001b[0;34m)\u001b[0m\u001b[0;34m\u001b[0m\u001b[0;34m\u001b[0m\u001b[0m\n\u001b[0m\u001b[1;32m    546\u001b[0m \u001b[0;34m\u001b[0m\u001b[0m\n\u001b[1;32m    547\u001b[0m         \u001b[0mself\u001b[0m\u001b[0;34m.\u001b[0m\u001b[0m__database\u001b[0m\u001b[0;34m.\u001b[0m\u001b[0mclient\u001b[0m\u001b[0;34m.\u001b[0m\u001b[0m_retryable_write\u001b[0m\u001b[0;34m(\u001b[0m\u001b[0macknowledged\u001b[0m\u001b[0;34m,\u001b[0m \u001b[0m_insert_command\u001b[0m\u001b[0;34m,\u001b[0m \u001b[0msession\u001b[0m\u001b[0;34m)\u001b[0m\u001b[0;34m\u001b[0m\u001b[0;34m\u001b[0m\u001b[0m\n",
      "\u001b[0;32m~/.pyenv/versions/3.8.6/envs/lewagon/lib/python3.8/site-packages/pymongo/helpers.py\u001b[0m in \u001b[0;36m_check_write_command_response\u001b[0;34m(result)\u001b[0m\n\u001b[1;32m    214\u001b[0m     \u001b[0mwrite_errors\u001b[0m \u001b[0;34m=\u001b[0m \u001b[0mresult\u001b[0m\u001b[0;34m.\u001b[0m\u001b[0mget\u001b[0m\u001b[0;34m(\u001b[0m\u001b[0;34m\"writeErrors\"\u001b[0m\u001b[0;34m)\u001b[0m\u001b[0;34m\u001b[0m\u001b[0;34m\u001b[0m\u001b[0m\n\u001b[1;32m    215\u001b[0m     \u001b[0;32mif\u001b[0m \u001b[0mwrite_errors\u001b[0m\u001b[0;34m:\u001b[0m\u001b[0;34m\u001b[0m\u001b[0;34m\u001b[0m\u001b[0m\n\u001b[0;32m--> 216\u001b[0;31m         \u001b[0m_raise_last_write_error\u001b[0m\u001b[0;34m(\u001b[0m\u001b[0mwrite_errors\u001b[0m\u001b[0;34m)\u001b[0m\u001b[0;34m\u001b[0m\u001b[0;34m\u001b[0m\u001b[0m\n\u001b[0m\u001b[1;32m    217\u001b[0m \u001b[0;34m\u001b[0m\u001b[0m\n\u001b[1;32m    218\u001b[0m     \u001b[0mwce\u001b[0m \u001b[0;34m=\u001b[0m \u001b[0m_get_wce_doc\u001b[0m\u001b[0;34m(\u001b[0m\u001b[0mresult\u001b[0m\u001b[0;34m)\u001b[0m\u001b[0;34m\u001b[0m\u001b[0;34m\u001b[0m\u001b[0m\n",
      "\u001b[0;32m~/.pyenv/versions/3.8.6/envs/lewagon/lib/python3.8/site-packages/pymongo/helpers.py\u001b[0m in \u001b[0;36m_raise_last_write_error\u001b[0;34m(write_errors)\u001b[0m\n\u001b[1;32m    186\u001b[0m     \u001b[0merror\u001b[0m \u001b[0;34m=\u001b[0m \u001b[0mwrite_errors\u001b[0m\u001b[0;34m[\u001b[0m\u001b[0;34m-\u001b[0m\u001b[0;36m1\u001b[0m\u001b[0;34m]\u001b[0m\u001b[0;34m\u001b[0m\u001b[0;34m\u001b[0m\u001b[0m\n\u001b[1;32m    187\u001b[0m     \u001b[0;32mif\u001b[0m \u001b[0merror\u001b[0m\u001b[0;34m.\u001b[0m\u001b[0mget\u001b[0m\u001b[0;34m(\u001b[0m\u001b[0;34m\"code\"\u001b[0m\u001b[0;34m)\u001b[0m \u001b[0;34m==\u001b[0m \u001b[0;36m11000\u001b[0m\u001b[0;34m:\u001b[0m\u001b[0;34m\u001b[0m\u001b[0;34m\u001b[0m\u001b[0m\n\u001b[0;32m--> 188\u001b[0;31m         \u001b[0;32mraise\u001b[0m \u001b[0mDuplicateKeyError\u001b[0m\u001b[0;34m(\u001b[0m\u001b[0merror\u001b[0m\u001b[0;34m.\u001b[0m\u001b[0mget\u001b[0m\u001b[0;34m(\u001b[0m\u001b[0;34m\"errmsg\"\u001b[0m\u001b[0;34m)\u001b[0m\u001b[0;34m,\u001b[0m \u001b[0;36m11000\u001b[0m\u001b[0;34m,\u001b[0m \u001b[0merror\u001b[0m\u001b[0;34m)\u001b[0m\u001b[0;34m\u001b[0m\u001b[0;34m\u001b[0m\u001b[0m\n\u001b[0m\u001b[1;32m    189\u001b[0m     \u001b[0;32mraise\u001b[0m \u001b[0mWriteError\u001b[0m\u001b[0;34m(\u001b[0m\u001b[0merror\u001b[0m\u001b[0;34m.\u001b[0m\u001b[0mget\u001b[0m\u001b[0;34m(\u001b[0m\u001b[0;34m\"errmsg\"\u001b[0m\u001b[0;34m)\u001b[0m\u001b[0;34m,\u001b[0m \u001b[0merror\u001b[0m\u001b[0;34m.\u001b[0m\u001b[0mget\u001b[0m\u001b[0;34m(\u001b[0m\u001b[0;34m\"code\"\u001b[0m\u001b[0;34m)\u001b[0m\u001b[0;34m,\u001b[0m \u001b[0merror\u001b[0m\u001b[0;34m)\u001b[0m\u001b[0;34m\u001b[0m\u001b[0;34m\u001b[0m\u001b[0m\n\u001b[1;32m    190\u001b[0m \u001b[0;34m\u001b[0m\u001b[0m\n",
      "\u001b[0;31mDuplicateKeyError\u001b[0m: E11000 duplicate key error collection: bipm.courses index: _id_ dup key: { _id: ObjectId('629349751531256878bc3a28') }, full error: {'index': 0, 'code': 11000, 'keyPattern': {'_id': 1}, 'keyValue': {'_id': ObjectId('629349751531256878bc3a28')}, 'errmsg': \"E11000 duplicate key error collection: bipm.courses index: _id_ dup key: { _id: ObjectId('629349751531256878bc3a28') }\"}"
     ]
    }
   ],
   "source": [
    "# TODO: Store `another_course` as another course:\n",
    "db.courses.insert_one(another_course)"
   ]
  },
  {
   "cell_type": "code",
   "execution_count": 27,
   "metadata": {},
   "outputs": [
    {
     "name": "stdout",
     "output_type": "stream",
     "text": [
      "{'_id': ObjectId('629349181531256878bc3a1f'),\n",
      " 'lecturer': {'department': 'Math',\n",
      "              'name': 'Markus Löcher',\n",
      "              'status': 'Professor'},\n",
      " 'semester': 1,\n",
      " 'title': 'Data Science'}\n",
      "{'_id': ObjectId('629349181531256878bc3a20'),\n",
      " 'lecturer': {'department': 'Information Systems',\n",
      "              'name': 'Roland M. Mueller',\n",
      "              'status': 'Professor'},\n",
      " 'semester': 1,\n",
      " 'title': 'Data Warehousing'}\n",
      "{'_id': ObjectId('629349181531256878bc3a21'),\n",
      " 'lecturer': {'department': 'Information Systems',\n",
      "              'name': 'Frank Habermann',\n",
      "              'status': 'Professor'},\n",
      " 'semester': 1,\n",
      " 'title': 'Business Process Management'}\n",
      "{'_id': ObjectId('629349181531256878bc3a22'),\n",
      " 'lecturer': {'department': 'Information Systems',\n",
      "              'name': 'Sven Pohland',\n",
      "              'status': 'Professor'},\n",
      " 'semester': 1,\n",
      " 'title': 'Stratigic Issues of IT'}\n",
      "{'_id': ObjectId('629349181531256878bc3a23'),\n",
      " 'lecturer': {'department': 'Math',\n",
      "              'name': 'Markus Löcher',\n",
      "              'status': 'Professor'},\n",
      " 'semester': 2,\n",
      " 'title': 'Text, Web and Social Media Analytics Lab'}\n",
      "{'_id': ObjectId('629349181531256878bc3a24'),\n",
      " 'lecturer': {'department': 'Information Systems',\n",
      "              'name': 'Roland M. Mueller',\n",
      "              'status': 'Professor'},\n",
      " 'semester': 2,\n",
      " 'title': 'Enterprise Architectures for Big Data'}\n",
      "{'_id': ObjectId('629349181531256878bc3a25'),\n",
      " 'lecturer': {'department': 'Information Systems',\n",
      "              'name': 'Frank Habermann',\n",
      "              'status': 'Professor'},\n",
      " 'semester': 2,\n",
      " 'title': 'Business Process Integration Lab'}\n",
      "{'_id': ObjectId('629349181531256878bc3a26'),\n",
      " 'lecturer': {'department': 'Information Systems',\n",
      "              'name': 'Dennis Uckel',\n",
      "              'status': 'External'},\n",
      " 'semester': 2,\n",
      " 'title': 'IT-Security and Privacy'}\n",
      "{'_id': ObjectId('629349181531256878bc3a27'),\n",
      " 'lecturer': {'department': 'Information Systems',\n",
      "              'name': 'Marcus Birkenkrahe',\n",
      "              'status': 'Professor'},\n",
      " 'semester': 2,\n",
      " 'title': 'Research Methods'}\n",
      "{'_id': ObjectId('629349751531256878bc3a28'),\n",
      " 'semester': 3,\n",
      " 'title': 'Master Thesis'}\n"
     ]
    }
   ],
   "source": [
    "# TODO: Print all courses\n",
    "cursor = db.courses.find()\n",
    "\n",
    "for document in cursor:\n",
    "    pprint(document)"
   ]
  },
  {
   "cell_type": "markdown",
   "metadata": {},
   "source": [
    "## find_one() and find()\n",
    "\n",
    "`find_one()` returns the first match. ```find()```returns all matches.\n",
    "\n",
    "The query condition for `find_one()` and `find()` for an equality match on fields has the following form:\n",
    "```python\n",
    "{ <field1>: <value1>, <field2>: <value2>, ... } \n",
    "```\n",
    "\n",
    "The following operation finds the first documents whose name field equals \"Manhattan\".\n",
    "\n",
    "```python\n",
    "cursor = db.restaurants.find_one({\"name\": \"Manhattan\"})\n",
    "```\n"
   ]
  },
  {
   "cell_type": "code",
   "execution_count": 29,
   "metadata": {},
   "outputs": [
    {
     "name": "stdout",
     "output_type": "stream",
     "text": [
      "{'_id': ObjectId('629349181531256878bc3a1f'),\n",
      " 'lecturer': {'department': 'Math',\n",
      "              'name': 'Markus Löcher',\n",
      "              'status': 'Professor'},\n",
      " 'semester': 1,\n",
      " 'title': 'Data Science'}\n"
     ]
    }
   ],
   "source": [
    "# TODO: Find the course with the title \"Data Science\" \n",
    "# save the result in a varibale result\n",
    "# and pprint the result.\n",
    "result = db.courses.find_one({\"title\":\"Data Science\"})\n",
    "\n",
    "pprint(result)"
   ]
  },
  {
   "cell_type": "code",
   "execution_count": 30,
   "metadata": {},
   "outputs": [
    {
     "name": "stdout",
     "output_type": "stream",
     "text": [
      "629349181531256878bc3a1f\n",
      "Markus Löcher\n"
     ]
    }
   ],
   "source": [
    "print(result[\"_id\"])\n",
    "print(result[\"lecturer\"][\"name\"])"
   ]
  },
  {
   "cell_type": "code",
   "execution_count": 31,
   "metadata": {},
   "outputs": [
    {
     "name": "stdout",
     "output_type": "stream",
     "text": [
      "{'_id': ObjectId('629349181531256878bc3a23'),\n",
      " 'lecturer': {'department': 'Math',\n",
      "              'name': 'Markus Löcher',\n",
      "              'status': 'Professor'},\n",
      " 'semester': 2,\n",
      " 'title': 'Text, Web and Social Media Analytics Lab'}\n"
     ]
    }
   ],
   "source": [
    "# TODO: Find the first course (one course) in the second semester\n",
    "# and print it\n",
    "result = db.courses.find_one({\"semester\":2})\n",
    "\n",
    "pprint(result)"
   ]
  },
  {
   "cell_type": "code",
   "execution_count": 33,
   "metadata": {},
   "outputs": [
    {
     "name": "stdout",
     "output_type": "stream",
     "text": [
      "{'_id': ObjectId('629349181531256878bc3a23'),\n",
      " 'lecturer': {'department': 'Math',\n",
      "              'name': 'Markus Löcher',\n",
      "              'status': 'Professor'},\n",
      " 'semester': 2,\n",
      " 'title': 'Text, Web and Social Media Analytics Lab'}\n",
      "{'_id': ObjectId('629349181531256878bc3a24'),\n",
      " 'lecturer': {'department': 'Information Systems',\n",
      "              'name': 'Roland M. Mueller',\n",
      "              'status': 'Professor'},\n",
      " 'semester': 2,\n",
      " 'title': 'Enterprise Architectures for Big Data'}\n",
      "{'_id': ObjectId('629349181531256878bc3a25'),\n",
      " 'lecturer': {'department': 'Information Systems',\n",
      "              'name': 'Frank Habermann',\n",
      "              'status': 'Professor'},\n",
      " 'semester': 2,\n",
      " 'title': 'Business Process Integration Lab'}\n",
      "{'_id': ObjectId('629349181531256878bc3a26'),\n",
      " 'lecturer': {'department': 'Information Systems',\n",
      "              'name': 'Dennis Uckel',\n",
      "              'status': 'External'},\n",
      " 'semester': 2,\n",
      " 'title': 'IT-Security and Privacy'}\n",
      "{'_id': ObjectId('629349181531256878bc3a27'),\n",
      " 'lecturer': {'department': 'Information Systems',\n",
      "              'name': 'Marcus Birkenkrahe',\n",
      "              'status': 'Professor'},\n",
      " 'semester': 2,\n",
      " 'title': 'Research Methods'}\n"
     ]
    }
   ],
   "source": [
    "# TODO: Find all courses in the second semester\n",
    "# and print the course titles\n",
    "result = db.courses.find({\"semester\":2})\n",
    "\n",
    "for doc in result:\n",
    "    pprint(doc)"
   ]
  },
  {
   "cell_type": "code",
   "execution_count": 36,
   "metadata": {},
   "outputs": [
    {
     "name": "stdout",
     "output_type": "stream",
     "text": [
      "'Markus Löcher'\n",
      "'Roland M. Mueller'\n",
      "'Frank Habermann'\n",
      "'Dennis Uckel'\n",
      "'Marcus Birkenkrahe'\n"
     ]
    }
   ],
   "source": [
    "# TODO: Find all courses in the second semester\n",
    "# and print the lecturers names\n",
    "result = db.courses.find({\"semester\":2})\n",
    "\n",
    "for doc in result:\n",
    "    pprint(doc[\"lecturer\"][\"name\"])\n"
   ]
  },
  {
   "cell_type": "markdown",
   "metadata": {},
   "source": [
    "## Subelements\n",
    "\n",
    "Sometimes documents contains embedded documents as its elements. To specify a condition on a field in these documents, use the dot notation. Dot notation requires quotes around the whole dotted field name. The following queries for documents whose grades array contains an embedded document with a field grade equal to \"B\".\n",
    "\n",
    "```python\n",
    "cursor = db.restaurants.find({\"grades.grade\": \"B\"})\n",
    "```"
   ]
  },
  {
   "cell_type": "code",
   "execution_count": 41,
   "metadata": {},
   "outputs": [
    {
     "name": "stdout",
     "output_type": "stream",
     "text": [
      "'Business Process Management'\n",
      "1\n",
      "'Business Process Integration Lab'\n",
      "2\n"
     ]
    }
   ],
   "source": [
    "# TODO: Find all courses of Frank Habermann\n",
    "# and print the title and the semester\n",
    "result = db.courses.find({\"lecturer.name\":\"Frank Habermann\"})\n",
    "\n",
    "for doc in result:\n",
    "    pprint(doc[\"title\"])\n",
    "    pprint(doc[\"semester\"])"
   ]
  },
  {
   "cell_type": "markdown",
   "metadata": {},
   "source": [
    "## Logical AND\n",
    "\n",
    "You can specify a logical conjunction (AND) for a list of query conditions by separating the conditions with a comma in the conditions document.\n",
    "\n",
    "```python\n",
    "cursor = db.restaurants.find({\"cuisine\": \"Italian\", \"address.zipcode\": \"10075\"})\n",
    "```"
   ]
  },
  {
   "cell_type": "code",
   "execution_count": 42,
   "metadata": {},
   "outputs": [
    {
     "name": "stdout",
     "output_type": "stream",
     "text": [
      "'Business Process Integration Lab'\n",
      "2\n"
     ]
    }
   ],
   "source": [
    "# TODO: Find all courses from Frank Habermann in the second semester\n",
    "# and print the title and the semester\n",
    "\n",
    "result = db.courses.find({\"lecturer.name\":\"Frank Habermann\", \"semester\":2})\n",
    "\n",
    "for doc in result:\n",
    "    pprint(doc[\"title\"])\n",
    "    pprint(doc[\"semester\"])"
   ]
  },
  {
   "cell_type": "markdown",
   "metadata": {},
   "source": [
    "## Logical OR\n",
    "\n",
    "You can specify a logical disjunction (OR) for a list of query conditions by using the $or query operator.\n",
    "\n",
    "```python\n",
    "cursor = db.restaurants.find({\"$or\": [{\"cuisine\": \"Italian\"}, {\"address.zipcode\": \"10075\"}]})\n",
    "```\n"
   ]
  },
  {
   "cell_type": "code",
   "execution_count": 44,
   "metadata": {
    "scrolled": true
   },
   "outputs": [
    {
     "name": "stdout",
     "output_type": "stream",
     "text": [
      "'Data Science'\n",
      "1\n",
      "'Business Process Management'\n",
      "1\n",
      "'Text, Web and Social Media Analytics Lab'\n",
      "2\n",
      "'Business Process Integration Lab'\n",
      "2\n"
     ]
    }
   ],
   "source": [
    "# TODO: Find all courses from Frank Habermann or Markus Löcher\n",
    "# and print the title and the semester\n",
    "\n",
    "result = db.courses.find({\"$or\": [{\"lecturer.name\":\"Frank Habermann\"}, {\"lecturer.name\":\"Markus Löcher\"}]})\n",
    "\n",
    "for doc in result:\n",
    "    pprint(doc[\"title\"])\n",
    "    pprint(doc[\"semester\"])"
   ]
  },
  {
   "cell_type": "markdown",
   "metadata": {},
   "source": [
    "## Greater than, Less than\n",
    "\n",
    "MongoDB provides operators to specify query conditions, such as comparison operators. Query conditions using operators generally have the following form:\n",
    "```python\n",
    "{ <field1>: { <operator1>: <value1> } }\n",
    "```\n",
    "\n",
    "Greater Than Operator (`$gt`). Query for documents whose grades array contains an embedded document with a field score greater than 30.\n",
    "\n",
    "```python\n",
    "cursor = db.restaurants.find({\"grades.score\": {\"$gt\": 30}})\n",
    "```\n",
    "\n",
    "Less Than Operator (`$lt`). Query for documents whose grades array contains an embedded document with a field score less than 10.\n",
    "\n",
    "```python\n",
    "cursor = db.restaurants.find({\"grades.score\": {\"$lt\": 10}})\n",
    "```\n",
    "\n"
   ]
  },
  {
   "cell_type": "code",
   "execution_count": 45,
   "metadata": {
    "scrolled": true
   },
   "outputs": [
    {
     "name": "stdout",
     "output_type": "stream",
     "text": [
      "'Text, Web and Social Media Analytics Lab'\n",
      "2\n",
      "'Enterprise Architectures for Big Data'\n",
      "2\n",
      "'Business Process Integration Lab'\n",
      "2\n",
      "'IT-Security and Privacy'\n",
      "2\n",
      "'Research Methods'\n",
      "2\n",
      "'Master Thesis'\n",
      "3\n"
     ]
    }
   ],
   "source": [
    "# TODO: Find all courses in semester greater than 1\n",
    "# and print the title and the semester\n",
    "\n",
    "result = db.courses.find({\"semester\":{\"$gt\":1}})\n",
    "\n",
    "for doc in result:\n",
    "    pprint(doc[\"title\"])\n",
    "    pprint(doc[\"semester\"])"
   ]
  },
  {
   "cell_type": "markdown",
   "metadata": {},
   "source": [
    "## Counting\n",
    "\n",
    "`count_documents()` works like `find()` but returns the number of matched documents-"
   ]
  },
  {
   "cell_type": "code",
   "execution_count": 47,
   "metadata": {},
   "outputs": [
    {
     "name": "stdout",
     "output_type": "stream",
     "text": [
      "5\n"
     ]
    }
   ],
   "source": [
    "# TODO: How many courses are in the second semester?\n",
    "result = db.courses.count_documents({\"semester\":2})\n",
    "\n",
    "pprint(result)"
   ]
  },
  {
   "cell_type": "markdown",
   "metadata": {},
   "source": [
    "# Downloading Nobel Prize Winners with an API and storing them in MongoDB\n",
    "\n",
    "![](https://upload.wikimedia.org/wikipedia/en/e/ed/Nobel_Prize.png)\n",
    "The Nobel Prize offers a Web API https://nobelprize.readme.io/docs/prize\n",
    "\n",
    "Because the API is giving us JSON and MongoDB is able to store documents in a JSON-like format, using a document database like MongoDB seems like a good fit to store the results of the API.  You can get all laureates at http://api.nobelprize.org/v1/laureate.json and all prizes at http://api.nobelprize.org/v1/prize.json\n",
    "\n",
    "We will just download all laureates and prizes and store them in MongoDB!"
   ]
  },
  {
   "cell_type": "code",
   "execution_count": 48,
   "metadata": {},
   "outputs": [],
   "source": [
    "# Create local \"nobel\" database on the fly \n",
    "db = client[\"nobel\"]\n",
    "db.prizes.drop()\n",
    "db.laureates.drop()\n",
    "# API documented at https://nobelprize.readme.io/docs/prize \n",
    "for collection_name in [\"prizes\", \"laureates\"]:\n",
    "    singular = collection_name[:-1] # the API uses singular\n",
    "    response = requests.get( \"http://api.nobelprize.org/v1/{}.json\".format(singular)) \n",
    "    documents = response.json()[collection_name] \n",
    "    # Create collections on the fly \n",
    "    db[collection_name].insert_many(documents)"
   ]
  },
  {
   "cell_type": "code",
   "execution_count": 49,
   "metadata": {},
   "outputs": [
    {
     "name": "stdout",
     "output_type": "stream",
     "text": [
      "{'_id': ObjectId('62934d031531256878bc3cbb'),\n",
      " 'born': '1845-03-27',\n",
      " 'bornCity': 'Lennep (now Remscheid)',\n",
      " 'bornCountry': 'Prussia (now Germany)',\n",
      " 'bornCountryCode': 'DE',\n",
      " 'died': '1923-02-10',\n",
      " 'diedCity': 'Munich',\n",
      " 'diedCountry': 'Germany',\n",
      " 'diedCountryCode': 'DE',\n",
      " 'firstname': 'Wilhelm Conrad',\n",
      " 'gender': 'male',\n",
      " 'id': '1',\n",
      " 'prizes': [{'affiliations': [{'city': 'Munich',\n",
      "                               'country': 'Germany',\n",
      "                               'name': 'Munich University'}],\n",
      "             'category': 'physics',\n",
      "             'motivation': '\"in recognition of the extraordinary services he '\n",
      "                           'has rendered by the discovery of the remarkable '\n",
      "                           'rays subsequently named after him\"',\n",
      "             'share': '1',\n",
      "             'year': '1901'}],\n",
      " 'surname': 'Röntgen'}\n"
     ]
    }
   ],
   "source": [
    "pprint(db.laureates.find_one())"
   ]
  },
  {
   "cell_type": "code",
   "execution_count": 51,
   "metadata": {},
   "outputs": [
    {
     "name": "stdout",
     "output_type": "stream",
     "text": [
      "'Wilhelm Conrad'\n"
     ]
    }
   ],
   "source": [
    "# TODO: Print the first name of the first document\n",
    "pprint(db.laureates.find_one()[\"firstname\"])"
   ]
  },
  {
   "cell_type": "markdown",
   "metadata": {},
   "source": [
    "With `count_documents` you can count the number of matching documents. "
   ]
  },
  {
   "cell_type": "code",
   "execution_count": 53,
   "metadata": {},
   "outputs": [
    {
     "name": "stdout",
     "output_type": "stream",
     "text": [
      "58\n"
     ]
    }
   ],
   "source": [
    "# How many female laureates exists? \n",
    "pprint(db.laureates.count_documents({\"gender\":\"female\"}))"
   ]
  },
  {
   "cell_type": "markdown",
   "metadata": {},
   "source": [
    "With the `$regex` function you can use a regular expression. `distinct` list only all distinct entries."
   ]
  },
  {
   "cell_type": "code",
   "execution_count": 55,
   "metadata": {},
   "outputs": [
    {
     "data": {
      "text/plain": [
       "['Bavaria (now Germany)',\n",
       " 'East Friesland (now Germany)',\n",
       " 'Germany',\n",
       " 'Germany (now France)',\n",
       " 'Germany (now Poland)',\n",
       " 'Germany (now Russia)',\n",
       " 'Hesse-Kassel (now Germany)',\n",
       " 'Mecklenburg (now Germany)',\n",
       " 'Prussia (now Germany)',\n",
       " 'Schleswig (now Germany)',\n",
       " 'West Germany (now Germany)',\n",
       " 'Württemberg (now Germany)']"
      ]
     },
     "execution_count": 55,
     "metadata": {},
     "output_type": "execute_result"
    }
   ],
   "source": [
    "db.laureates.distinct(\"bornCountry\", {\"bornCountry\": {\"$regex\": \"Germany\"}})"
   ]
  },
  {
   "cell_type": "code",
   "execution_count": 57,
   "metadata": {},
   "outputs": [
    {
     "name": "stdout",
     "output_type": "stream",
     "text": [
      "97\n"
     ]
    }
   ],
   "source": [
    "# TODO: How many laureates are from Germany?\n",
    "pprint(db.laureates.count_documents({\"bornCountry\": {\"$regex\": \"Germany\"}}))"
   ]
  },
  {
   "cell_type": "code",
   "execution_count": 60,
   "metadata": {},
   "outputs": [
    {
     "name": "stdout",
     "output_type": "stream",
     "text": [
      "'1901'\n",
      "'Wilhelm Conrad'\n",
      "'Röntgen'\n",
      "'1909'\n",
      "'Ferdinand'\n",
      "'Braun'\n",
      "'1914'\n",
      "'Max'\n",
      "'von Laue'\n",
      "'1918'\n",
      "'Max'\n",
      "'Planck'\n",
      "'1919'\n",
      "'Johannes'\n",
      "'Stark'\n",
      "'1921'\n",
      "'Albert'\n",
      "'Einstein'\n",
      "'1925'\n",
      "'James'\n",
      "'Franck'\n",
      "'1925'\n",
      "'Gustav'\n",
      "'Hertz'\n",
      "'1932'\n",
      "'Werner'\n",
      "'Heisenberg'\n",
      "'1943'\n",
      "'Otto'\n",
      "'Stern'\n",
      "'1954'\n",
      "'Max'\n",
      "'Born'\n",
      "'1954'\n",
      "'Walther'\n",
      "'Bothe'\n",
      "'1955'\n",
      "'Polykarp'\n",
      "'Kusch'\n",
      "'1961'\n",
      "'Rudolf'\n",
      "'Mössbauer'\n",
      "'1963'\n",
      "'Maria'\n",
      "'Goeppert Mayer'\n",
      "'1963'\n",
      "'J. Hans D.'\n",
      "'Jensen'\n",
      "'1966'\n",
      "'Alfred'\n",
      "'Kastler'\n",
      "'1967'\n",
      "'Hans'\n",
      "'Bethe'\n",
      "'1978'\n",
      "'Arno'\n",
      "'Penzias'\n",
      "'1986'\n",
      "'Ernst'\n",
      "'Ruska'\n",
      "'1986'\n",
      "'Gerd'\n",
      "'Binnig'\n",
      "'1987'\n",
      "'J. Georg'\n",
      "'Bednorz'\n",
      "'1988'\n",
      "'Jack'\n",
      "'Steinberger'\n",
      "'1989'\n",
      "'Hans G.'\n",
      "'Dehmelt'\n",
      "'1989'\n",
      "'Wolfgang'\n",
      "'Paul'\n",
      "'1998'\n",
      "'Horst L.'\n",
      "'Störmer'\n",
      "'2000'\n",
      "'Herbert'\n",
      "'Kroemer'\n",
      "'2001'\n",
      "'Wolfgang'\n",
      "'Ketterle'\n",
      "'2005'\n",
      "'Theodor W.'\n",
      "'Hänsch'\n",
      "'2017'\n",
      "'Rainer'\n",
      "'Weiss'\n",
      "'2020'\n",
      "'Reinhard'\n",
      "'Genzel'\n",
      "'2021'\n",
      "'Klaus'\n",
      "'Hasselmann'\n"
     ]
    }
   ],
   "source": [
    "# TODO: Find all physics nobel laureates that are from Germany\n",
    "# print the year of the first prize, the first name, and surename\n",
    "results = db.laureates.find({\"bornCountry\": {\"$regex\": \"Germany\"}, \"prizes.category\":'physics'})\n",
    "\n",
    "for doc in results:\n",
    "    pprint(doc[\"prizes\"][0][\"year\"])\n",
    "    pprint(doc[\"firstname\"])\n",
    "    pprint(doc[\"surname\"])"
   ]
  },
  {
   "cell_type": "code",
   "execution_count": 61,
   "metadata": {
    "scrolled": true
   },
   "outputs": [
    {
     "name": "stdout",
     "output_type": "stream",
     "text": [
      "{'_id': ObjectId('62934d031531256878bc402b'),\n",
      " 'born': '1997-07-12',\n",
      " 'bornCity': 'Mingora',\n",
      " 'bornCountry': 'Pakistan',\n",
      " 'bornCountryCode': 'PK',\n",
      " 'died': '0000-00-00',\n",
      " 'firstname': 'Malala',\n",
      " 'gender': 'female',\n",
      " 'id': '914',\n",
      " 'prizes': [{'affiliations': [[]],\n",
      "             'category': 'peace',\n",
      "             'motivation': '\"for their struggle against the suppression of '\n",
      "                           'children and young people and for the right of all '\n",
      "                           'children to education\"',\n",
      "             'share': '2',\n",
      "             'year': '2014'}],\n",
      " 'surname': 'Yousafzai'}\n"
     ]
    }
   ],
   "source": [
    "# TODO: find and print the document for \"Malala\" (firstname)\n",
    "pprint(db.laureates.find_one({\"firstname\":\"Malala\"}))"
   ]
  },
  {
   "cell_type": "markdown",
   "metadata": {},
   "source": [
    "## Sort()\n",
    "\n",
    "With `sort()` you can sort the list of documents. The parameter of sort is a list of sorting tuples. Each tuple is a value and an integer value 1 or -1 which states whether the collection to be sorted in ascending (1) or descending (-1) order.\n",
    "\n",
    "Sort all restaurants according to the grade in ascending order.\n",
    "```python\n",
    "cursor = db.restaurants.find().sort([(\"grades.grade\", 1)])\n",
    "```"
   ]
  },
  {
   "cell_type": "code",
   "execution_count": 65,
   "metadata": {},
   "outputs": [
    {
     "name": "stdout",
     "output_type": "stream",
     "text": [
      "'1903'\n",
      "'Marie'\n",
      "'Curie'\n",
      "'1905'\n",
      "'Bertha'\n",
      "'von Suttner'\n",
      "'1909'\n",
      "'Selma'\n",
      "'Lagerlöf'\n",
      "'1926'\n",
      "'Grazia'\n",
      "'Deledda'\n",
      "'1928'\n",
      "'Sigrid'\n",
      "'Undset'\n",
      "'1931'\n",
      "'Jane'\n",
      "'Addams'\n",
      "'1935'\n",
      "'Irène'\n",
      "'Joliot-Curie'\n",
      "'1938'\n",
      "'Pearl'\n",
      "'Buck'\n",
      "'1945'\n",
      "'Gabriela'\n",
      "'Mistral'\n",
      "'1946'\n",
      "'Emily Greene'\n",
      "'Balch'\n",
      "'1947'\n",
      "'Gerty'\n",
      "'Cori'\n",
      "'1963'\n",
      "'Maria'\n",
      "'Goeppert Mayer'\n",
      "'1964'\n",
      "'Dorothy Crowfoot'\n",
      "'Hodgkin'\n",
      "'1966'\n",
      "'Nelly'\n",
      "'Sachs'\n",
      "'1976'\n",
      "'Betty'\n",
      "'Williams'\n",
      "'1976'\n",
      "'Mairead'\n",
      "'Corrigan'\n",
      "'1977'\n",
      "'Rosalyn'\n",
      "'Yalow'\n",
      "'1979'\n",
      "'Anjezë Gonxhe'\n",
      "'Bojaxhiu'\n",
      "'1982'\n",
      "'Alva'\n",
      "'Myrdal'\n",
      "'1983'\n",
      "'Barbara'\n",
      "'McClintock'\n",
      "'1986'\n",
      "'Rita'\n",
      "'Levi-Montalcini'\n",
      "'1988'\n",
      "'Gertrude B.'\n",
      "'Elion'\n",
      "'1991'\n",
      "'Aung San Suu Kyi'\n",
      "'1991'\n",
      "'Nadine'\n",
      "'Gordimer'\n",
      "'1992'\n",
      "'Rigoberta'\n",
      "'Menchú Tum'\n",
      "'1993'\n",
      "'Toni'\n",
      "'Morrison'\n",
      "'1995'\n",
      "'Christiane'\n",
      "'Nüsslein-Volhard'\n",
      "'1996'\n",
      "'Wislawa'\n",
      "'Szymborska'\n",
      "'1997'\n",
      "'Jody'\n",
      "'Williams'\n",
      "'2003'\n",
      "'Shirin'\n",
      "'Ebadi'\n",
      "'2004'\n",
      "'Linda B.'\n",
      "'Buck'\n",
      "'2004'\n",
      "'Elfriede'\n",
      "'Jelinek'\n",
      "'2004'\n",
      "'Wangari'\n",
      "'Maathai'\n",
      "'2007'\n",
      "'Doris'\n",
      "'Lessing'\n",
      "'2008'\n",
      "'Françoise'\n",
      "'Barré-Sinoussi'\n",
      "'2009'\n",
      "'Elizabeth H.'\n",
      "'Blackburn'\n",
      "'2009'\n",
      "'Carol W.'\n",
      "'Greider'\n",
      "'2009'\n",
      "'Ada E.'\n",
      "'Yonath'\n",
      "'2009'\n",
      "'Herta'\n",
      "'Müller'\n",
      "'2009'\n",
      "'Elinor'\n",
      "'Ostrom'\n",
      "'2011'\n",
      "'Ellen'\n",
      "'Johnson Sirleaf'\n",
      "'2011'\n",
      "'Leymah'\n",
      "'Gbowee'\n",
      "'2011'\n",
      "'Tawakkol'\n",
      "'Karman'\n",
      "'2013'\n",
      "'Alice'\n",
      "'Munro'\n",
      "'2014'\n",
      "'May-Britt'\n",
      "'Moser'\n",
      "'2014'\n",
      "'Malala'\n",
      "'Yousafzai'\n",
      "'2015'\n",
      "'Youyou'\n",
      "'Tu'\n",
      "'2015'\n",
      "'Svetlana'\n",
      "'Alexievich'\n",
      "'2018'\n",
      "'Donna'\n",
      "'Strickland'\n",
      "'2018'\n",
      "'Frances H.'\n",
      "'Arnold'\n",
      "'2018'\n",
      "'Nadia'\n",
      "'Murad'\n",
      "'2018'\n",
      "'Olga'\n",
      "'Tokarczuk'\n",
      "'2019'\n",
      "'Esther'\n",
      "'Duflo'\n",
      "'2020'\n",
      "'Andrea'\n",
      "'Ghez'\n",
      "'2020'\n",
      "'Emmanuelle'\n",
      "'Charpentier'\n",
      "'2020'\n",
      "'Jennifer A.'\n",
      "'Doudna'\n",
      "'2020'\n",
      "'Louise'\n",
      "'Glück'\n",
      "'2021'\n",
      "'Maria'\n",
      "'Ressa'\n"
     ]
    }
   ],
   "source": [
    "# TODO: Find only female nobel laureates \n",
    "# and sort them according the the prize year in ascending order\n",
    "# print year of the first prize, firstname, and surename\n",
    "\n",
    "cursor = db.laureates.find({\"gender\":\"female\"}).sort([(\"prizes.year\", 1)])\n",
    "\n",
    "for doc in cursor:\n",
    "    pprint(doc[\"prizes\"][0][\"year\"])\n",
    "    pprint(doc[\"firstname\"])\n",
    "    try:\n",
    "        pprint(doc[\"surname\"])\n",
    "    except:\n",
    "        continue"
   ]
  },
  {
   "cell_type": "code",
   "execution_count": null,
   "metadata": {},
   "outputs": [],
   "source": []
  }
 ],
 "metadata": {
  "celltoolbar": "Raw Cell Format",
  "kernelspec": {
   "display_name": "Python 3 (ipykernel)",
   "language": "python",
   "name": "python3"
  },
  "language_info": {
   "codemirror_mode": {
    "name": "ipython",
    "version": 3
   },
   "file_extension": ".py",
   "mimetype": "text/x-python",
   "name": "python",
   "nbconvert_exporter": "python",
   "pygments_lexer": "ipython3",
   "version": "3.8.6"
  },
  "toc": {
   "base_numbering": 1,
   "nav_menu": {},
   "number_sections": true,
   "sideBar": true,
   "skip_h1_title": false,
   "title_cell": "Table of Contents",
   "title_sidebar": "Contents",
   "toc_cell": false,
   "toc_position": {},
   "toc_section_display": true,
   "toc_window_display": false
  },
  "varInspector": {
   "cols": {
    "lenName": 16,
    "lenType": 16,
    "lenVar": 40
   },
   "kernels_config": {
    "python": {
     "delete_cmd_postfix": "",
     "delete_cmd_prefix": "del ",
     "library": "var_list.py",
     "varRefreshCmd": "print(var_dic_list())"
    },
    "r": {
     "delete_cmd_postfix": ") ",
     "delete_cmd_prefix": "rm(",
     "library": "var_list.r",
     "varRefreshCmd": "cat(var_dic_list()) "
    }
   },
   "types_to_exclude": [
    "module",
    "function",
    "builtin_function_or_method",
    "instance",
    "_Feature"
   ],
   "window_display": false
  }
 },
 "nbformat": 4,
 "nbformat_minor": 2
}
